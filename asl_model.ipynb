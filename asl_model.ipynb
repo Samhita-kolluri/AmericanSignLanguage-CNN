{
 "cells": [
  {
   "cell_type": "markdown",
   "metadata": {
    "pycharm": {
     "name": "#%% md\n"
    }
   },
   "source": [
    "# American Sign Language Detection"
   ]
  },
  {
   "cell_type": "markdown",
   "source": [
    "## Check Inputs dataset location"
   ],
   "metadata": {
    "collapsed": false,
    "pycharm": {
     "name": "#%% md\n"
    }
   }
  },
  {
   "cell_type": "code",
   "execution_count": 1,
   "metadata": {},
   "outputs": [
    {
     "name": "stdout",
     "output_type": "stream",
     "text": [
      "MNSIT/american_sign_language.PNG\n",
      "MNSIT/amer_sign2.png\n",
      "MNSIT/amer_sign3.png\n",
      "MNSIT/sign_mnist_test\\sign_mnist_test.csv\n",
      "MNSIT/sign_mnist_train\\sign_mnist_train.csv\n"
     ]
    }
   ],
   "source": [
    "import os\n",
    "for dirname, _, filenames in os.walk('MNSIT/'):\n",
    "    for filename in filenames:\n",
    "        print(os.path.join(dirname, filename))"
   ]
  },
  {
   "cell_type": "markdown",
   "metadata": {
    "pycharm": {
     "name": "#%% md\n"
    }
   },
   "source": [
    "## Import required libraries"
   ]
  },
  {
   "cell_type": "code",
   "execution_count": 2,
   "outputs": [
    {
     "name": "stderr",
     "output_type": "stream",
     "text": [
      "Using TensorFlow backend.\n",
      "d:\\program files\\virtualenv\\sign language\\lib\\site-packages\\tensorflow\\python\\framework\\dtypes.py:523: FutureWarning: Passing (type, 1) or '1type' as a synonym of type is deprecated; in a future version of numpy, it will be understood as (type, (1,)) / '(1,)type'.\n",
      "  _np_qint8 = np.dtype([(\"qint8\", np.int8, 1)])\n",
      "d:\\program files\\virtualenv\\sign language\\lib\\site-packages\\tensorflow\\python\\framework\\dtypes.py:524: FutureWarning: Passing (type, 1) or '1type' as a synonym of type is deprecated; in a future version of numpy, it will be understood as (type, (1,)) / '(1,)type'.\n",
      "  _np_quint8 = np.dtype([(\"quint8\", np.uint8, 1)])\n",
      "d:\\program files\\virtualenv\\sign language\\lib\\site-packages\\tensorflow\\python\\framework\\dtypes.py:525: FutureWarning: Passing (type, 1) or '1type' as a synonym of type is deprecated; in a future version of numpy, it will be understood as (type, (1,)) / '(1,)type'.\n",
      "  _np_qint16 = np.dtype([(\"qint16\", np.int16, 1)])\n",
      "d:\\program files\\virtualenv\\sign language\\lib\\site-packages\\tensorflow\\python\\framework\\dtypes.py:526: FutureWarning: Passing (type, 1) or '1type' as a synonym of type is deprecated; in a future version of numpy, it will be understood as (type, (1,)) / '(1,)type'.\n",
      "  _np_quint16 = np.dtype([(\"quint16\", np.uint16, 1)])\n",
      "d:\\program files\\virtualenv\\sign language\\lib\\site-packages\\tensorflow\\python\\framework\\dtypes.py:527: FutureWarning: Passing (type, 1) or '1type' as a synonym of type is deprecated; in a future version of numpy, it will be understood as (type, (1,)) / '(1,)type'.\n",
      "  _np_qint32 = np.dtype([(\"qint32\", np.int32, 1)])\n",
      "d:\\program files\\virtualenv\\sign language\\lib\\site-packages\\tensorflow\\python\\framework\\dtypes.py:532: FutureWarning: Passing (type, 1) or '1type' as a synonym of type is deprecated; in a future version of numpy, it will be understood as (type, (1,)) / '(1,)type'.\n",
      "  np_resource = np.dtype([(\"resource\", np.ubyte, 1)])\n"
     ]
    }
   ],
   "source": [
    "import numpy as np\n",
    "import pandas as pd\n",
    "import matplotlib.pyplot as plt\n",
    "import seaborn as sns\n",
    "import keras\n",
    "from keras.models import Sequential\n",
    "from keras.models import load_model\n",
    "from keras.layers import Dense, Conv2D , MaxPool2D , Flatten , Dropout\n",
    "from keras.preprocessing.image import ImageDataGenerator\n",
    "from sklearn.model_selection import train_test_split\n",
    "from sklearn.metrics import classification_report,confusion_matrix"
   ],
   "metadata": {
    "collapsed": false,
    "pycharm": {
     "name": "#%%\n"
    }
   }
  },
  {
   "cell_type": "markdown",
   "metadata": {
    "pycharm": {
     "name": "#%% md\n"
    }
   },
   "source": [
    "## Load MNSIT Dataset"
   ]
  },
  {
   "cell_type": "code",
   "execution_count": 3,
   "outputs": [
    {
     "name": "stdout",
     "output_type": "stream",
     "text": [
      "train data shape: (27455, 785)\n",
      "test data shape: (7172, 785)\n"
     ]
    }
   ],
   "source": [
    "train_df = pd.read_csv(\"MNSIT/sign_mnist_train/sign_mnist_train.csv\")\n",
    "test_df = pd.read_csv(\"MNSIT/sign_mnist_test/sign_mnist_test.csv\")\n",
    "\n",
    "print('train data shape:', train_df.shape)\n",
    "print('test data shape:', test_df.shape)"
   ],
   "metadata": {
    "collapsed": false,
    "pycharm": {
     "name": "#%%\n"
    }
   }
  },
  {
   "cell_type": "code",
   "execution_count": 4,
   "metadata": {
    "pycharm": {
     "name": "#%%\n"
    }
   },
   "outputs": [
    {
     "name": "stdout",
     "output_type": "stream",
     "text": [
      "done\n"
     ]
    }
   ],
   "source": [
    "test = pd.read_csv(\"MNSIT/sign_mnist_test/sign_mnist_test.csv\")\n",
    "y = test['label']\n",
    "\n",
    "print ('done')"
   ]
  },
  {
   "cell_type": "markdown",
   "metadata": {
    "pycharm": {
     "name": "#%% md\n"
    }
   },
   "source": [
    "Check train dataset"
   ]
  },
  {
   "cell_type": "code",
   "execution_count": 5,
   "outputs": [
    {
     "data": {
      "text/plain": "   label  pixel1  pixel2  pixel3  pixel4  pixel5  pixel6  pixel7  pixel8  \\\n0      3     107     118     127     134     139     143     146     150   \n1      6     155     157     156     156     156     157     156     158   \n2      2     187     188     188     187     187     186     187     188   \n3      2     211     211     212     212     211     210     211     210   \n4     13     164     167     170     172     176     179     180     184   \n\n   pixel9  ...  pixel775  pixel776  pixel777  pixel778  pixel779  pixel780  \\\n0     153  ...       207       207       207       207       206       206   \n1     158  ...        69       149       128        87        94       163   \n2     187  ...       202       201       200       199       198       199   \n3     210  ...       235       234       233       231       230       226   \n4     185  ...        92       105       105       108       133       163   \n\n   pixel781  pixel782  pixel783  pixel784  \n0       206       204       203       202  \n1       175       103       135       149  \n2       198       195       194       195  \n3       225       222       229       163  \n4       157       163       164       179  \n\n[5 rows x 785 columns]",
      "text/html": "<div>\n<style scoped>\n    .dataframe tbody tr th:only-of-type {\n        vertical-align: middle;\n    }\n\n    .dataframe tbody tr th {\n        vertical-align: top;\n    }\n\n    .dataframe thead th {\n        text-align: right;\n    }\n</style>\n<table border=\"1\" class=\"dataframe\">\n  <thead>\n    <tr style=\"text-align: right;\">\n      <th></th>\n      <th>label</th>\n      <th>pixel1</th>\n      <th>pixel2</th>\n      <th>pixel3</th>\n      <th>pixel4</th>\n      <th>pixel5</th>\n      <th>pixel6</th>\n      <th>pixel7</th>\n      <th>pixel8</th>\n      <th>pixel9</th>\n      <th>...</th>\n      <th>pixel775</th>\n      <th>pixel776</th>\n      <th>pixel777</th>\n      <th>pixel778</th>\n      <th>pixel779</th>\n      <th>pixel780</th>\n      <th>pixel781</th>\n      <th>pixel782</th>\n      <th>pixel783</th>\n      <th>pixel784</th>\n    </tr>\n  </thead>\n  <tbody>\n    <tr>\n      <th>0</th>\n      <td>3</td>\n      <td>107</td>\n      <td>118</td>\n      <td>127</td>\n      <td>134</td>\n      <td>139</td>\n      <td>143</td>\n      <td>146</td>\n      <td>150</td>\n      <td>153</td>\n      <td>...</td>\n      <td>207</td>\n      <td>207</td>\n      <td>207</td>\n      <td>207</td>\n      <td>206</td>\n      <td>206</td>\n      <td>206</td>\n      <td>204</td>\n      <td>203</td>\n      <td>202</td>\n    </tr>\n    <tr>\n      <th>1</th>\n      <td>6</td>\n      <td>155</td>\n      <td>157</td>\n      <td>156</td>\n      <td>156</td>\n      <td>156</td>\n      <td>157</td>\n      <td>156</td>\n      <td>158</td>\n      <td>158</td>\n      <td>...</td>\n      <td>69</td>\n      <td>149</td>\n      <td>128</td>\n      <td>87</td>\n      <td>94</td>\n      <td>163</td>\n      <td>175</td>\n      <td>103</td>\n      <td>135</td>\n      <td>149</td>\n    </tr>\n    <tr>\n      <th>2</th>\n      <td>2</td>\n      <td>187</td>\n      <td>188</td>\n      <td>188</td>\n      <td>187</td>\n      <td>187</td>\n      <td>186</td>\n      <td>187</td>\n      <td>188</td>\n      <td>187</td>\n      <td>...</td>\n      <td>202</td>\n      <td>201</td>\n      <td>200</td>\n      <td>199</td>\n      <td>198</td>\n      <td>199</td>\n      <td>198</td>\n      <td>195</td>\n      <td>194</td>\n      <td>195</td>\n    </tr>\n    <tr>\n      <th>3</th>\n      <td>2</td>\n      <td>211</td>\n      <td>211</td>\n      <td>212</td>\n      <td>212</td>\n      <td>211</td>\n      <td>210</td>\n      <td>211</td>\n      <td>210</td>\n      <td>210</td>\n      <td>...</td>\n      <td>235</td>\n      <td>234</td>\n      <td>233</td>\n      <td>231</td>\n      <td>230</td>\n      <td>226</td>\n      <td>225</td>\n      <td>222</td>\n      <td>229</td>\n      <td>163</td>\n    </tr>\n    <tr>\n      <th>4</th>\n      <td>13</td>\n      <td>164</td>\n      <td>167</td>\n      <td>170</td>\n      <td>172</td>\n      <td>176</td>\n      <td>179</td>\n      <td>180</td>\n      <td>184</td>\n      <td>185</td>\n      <td>...</td>\n      <td>92</td>\n      <td>105</td>\n      <td>105</td>\n      <td>108</td>\n      <td>133</td>\n      <td>163</td>\n      <td>157</td>\n      <td>163</td>\n      <td>164</td>\n      <td>179</td>\n    </tr>\n  </tbody>\n</table>\n<p>5 rows × 785 columns</p>\n</div>"
     },
     "execution_count": 5,
     "metadata": {},
     "output_type": "execute_result"
    }
   ],
   "source": [
    "train_df.head(5)"
   ],
   "metadata": {
    "collapsed": false,
    "pycharm": {
     "name": "#%%\n"
    }
   }
  },
  {
   "cell_type": "markdown",
   "source": [
    "Check test dataset"
   ],
   "metadata": {
    "collapsed": false,
    "pycharm": {
     "name": "#%% md\n"
    }
   }
  },
  {
   "cell_type": "code",
   "execution_count": 6,
   "metadata": {
    "pycharm": {
     "name": "#%%\n"
    }
   },
   "outputs": [
    {
     "data": {
      "text/plain": "   label  pixel1  pixel2  pixel3  pixel4  pixel5  pixel6  pixel7  pixel8  \\\n0      6     149     149     150     150     150     151     151     150   \n1      5     126     128     131     132     133     134     135     135   \n2     10      85      88      92      96     105     123     135     143   \n3      0     203     205     207     206     207     209     210     209   \n4      3     188     191     193     195     199     201     202     203   \n\n   pixel9  ...  pixel775  pixel776  pixel777  pixel778  pixel779  pixel780  \\\n0     151  ...       138       148       127        89        82        96   \n1     136  ...        47       104       194       183       186       184   \n2     147  ...        68       166       242       227       230       227   \n3     210  ...       154       248       247       248       253       236   \n4     203  ...        26        40        64        48        29        46   \n\n   pixel781  pixel782  pixel783  pixel784  \n0       106       112       120       107  \n1       184       184       182       180  \n2       226       225       224       222  \n3       230       240       253       255  \n4        49        46        46        53  \n\n[5 rows x 785 columns]",
      "text/html": "<div>\n<style scoped>\n    .dataframe tbody tr th:only-of-type {\n        vertical-align: middle;\n    }\n\n    .dataframe tbody tr th {\n        vertical-align: top;\n    }\n\n    .dataframe thead th {\n        text-align: right;\n    }\n</style>\n<table border=\"1\" class=\"dataframe\">\n  <thead>\n    <tr style=\"text-align: right;\">\n      <th></th>\n      <th>label</th>\n      <th>pixel1</th>\n      <th>pixel2</th>\n      <th>pixel3</th>\n      <th>pixel4</th>\n      <th>pixel5</th>\n      <th>pixel6</th>\n      <th>pixel7</th>\n      <th>pixel8</th>\n      <th>pixel9</th>\n      <th>...</th>\n      <th>pixel775</th>\n      <th>pixel776</th>\n      <th>pixel777</th>\n      <th>pixel778</th>\n      <th>pixel779</th>\n      <th>pixel780</th>\n      <th>pixel781</th>\n      <th>pixel782</th>\n      <th>pixel783</th>\n      <th>pixel784</th>\n    </tr>\n  </thead>\n  <tbody>\n    <tr>\n      <th>0</th>\n      <td>6</td>\n      <td>149</td>\n      <td>149</td>\n      <td>150</td>\n      <td>150</td>\n      <td>150</td>\n      <td>151</td>\n      <td>151</td>\n      <td>150</td>\n      <td>151</td>\n      <td>...</td>\n      <td>138</td>\n      <td>148</td>\n      <td>127</td>\n      <td>89</td>\n      <td>82</td>\n      <td>96</td>\n      <td>106</td>\n      <td>112</td>\n      <td>120</td>\n      <td>107</td>\n    </tr>\n    <tr>\n      <th>1</th>\n      <td>5</td>\n      <td>126</td>\n      <td>128</td>\n      <td>131</td>\n      <td>132</td>\n      <td>133</td>\n      <td>134</td>\n      <td>135</td>\n      <td>135</td>\n      <td>136</td>\n      <td>...</td>\n      <td>47</td>\n      <td>104</td>\n      <td>194</td>\n      <td>183</td>\n      <td>186</td>\n      <td>184</td>\n      <td>184</td>\n      <td>184</td>\n      <td>182</td>\n      <td>180</td>\n    </tr>\n    <tr>\n      <th>2</th>\n      <td>10</td>\n      <td>85</td>\n      <td>88</td>\n      <td>92</td>\n      <td>96</td>\n      <td>105</td>\n      <td>123</td>\n      <td>135</td>\n      <td>143</td>\n      <td>147</td>\n      <td>...</td>\n      <td>68</td>\n      <td>166</td>\n      <td>242</td>\n      <td>227</td>\n      <td>230</td>\n      <td>227</td>\n      <td>226</td>\n      <td>225</td>\n      <td>224</td>\n      <td>222</td>\n    </tr>\n    <tr>\n      <th>3</th>\n      <td>0</td>\n      <td>203</td>\n      <td>205</td>\n      <td>207</td>\n      <td>206</td>\n      <td>207</td>\n      <td>209</td>\n      <td>210</td>\n      <td>209</td>\n      <td>210</td>\n      <td>...</td>\n      <td>154</td>\n      <td>248</td>\n      <td>247</td>\n      <td>248</td>\n      <td>253</td>\n      <td>236</td>\n      <td>230</td>\n      <td>240</td>\n      <td>253</td>\n      <td>255</td>\n    </tr>\n    <tr>\n      <th>4</th>\n      <td>3</td>\n      <td>188</td>\n      <td>191</td>\n      <td>193</td>\n      <td>195</td>\n      <td>199</td>\n      <td>201</td>\n      <td>202</td>\n      <td>203</td>\n      <td>203</td>\n      <td>...</td>\n      <td>26</td>\n      <td>40</td>\n      <td>64</td>\n      <td>48</td>\n      <td>29</td>\n      <td>46</td>\n      <td>49</td>\n      <td>46</td>\n      <td>46</td>\n      <td>53</td>\n    </tr>\n  </tbody>\n</table>\n<p>5 rows × 785 columns</p>\n</div>"
     },
     "execution_count": 6,
     "metadata": {},
     "output_type": "execute_result"
    }
   ],
   "source": [
    "test_df.head(5)"
   ]
  },
  {
   "cell_type": "markdown",
   "source": [
    "## Data Visualization and Pre-processing"
   ],
   "metadata": {
    "collapsed": false,
    "pycharm": {
     "name": "#%% md\n"
    }
   }
  },
  {
   "cell_type": "code",
   "execution_count": 7,
   "outputs": [
    {
     "data": {
      "text/plain": "<matplotlib.axes._subplots.AxesSubplot at 0x1acd420eb70>"
     },
     "execution_count": 7,
     "metadata": {},
     "output_type": "execute_result"
    },
    {
     "data": {
      "text/plain": "<Figure size 360x360 with 1 Axes>",
      "image/png": "[encoded data removed]"
     },
     "metadata": {
      "needs_background": "light"
     },
     "output_type": "display_data"
    }
   ],
   "source": [
    "plt.figure(figsize = (5,5)) # Label Count\n",
    "sns.countplot(train_df['label'])"
   ],
   "metadata": {
    "collapsed": false,
    "pycharm": {
     "name": "#%%\n"
    }
   }
  },
  {
   "cell_type": "markdown",
   "source": [
    "Save label to y axis ('y_...') and remove 'label' from dataset"
   ],
   "metadata": {
    "collapsed": false,
    "pycharm": {
     "name": "#%% md\n"
    }
   }
  },
  {
   "cell_type": "code",
   "execution_count": 8,
   "outputs": [],
   "source": [
    "y_train = train_df['label']\n",
    "y_test = test_df['label']\n",
    "del train_df['label']\n",
    "del test_df['label']"
   ],
   "metadata": {
    "collapsed": false,
    "pycharm": {
     "name": "#%%\n"
    }
   }
  },
  {
   "cell_type": "code",
   "source": [
    "test_df.head()"
   ],
   "metadata": {
    "collapsed": false,
    "pycharm": {
     "name": "#%%\n"
    }
   },
   "execution_count": 9,
   "outputs": [
    {
     "data": {
      "text/plain": "   pixel1  pixel2  pixel3  pixel4  pixel5  pixel6  pixel7  pixel8  pixel9  \\\n0     149     149     150     150     150     151     151     150     151   \n1     126     128     131     132     133     134     135     135     136   \n2      85      88      92      96     105     123     135     143     147   \n3     203     205     207     206     207     209     210     209     210   \n4     188     191     193     195     199     201     202     203     203   \n\n   pixel10  ...  pixel775  pixel776  pixel777  pixel778  pixel779  pixel780  \\\n0      152  ...       138       148       127        89        82        96   \n1      138  ...        47       104       194       183       186       184   \n2      152  ...        68       166       242       227       230       227   \n3      209  ...       154       248       247       248       253       236   \n4      203  ...        26        40        64        48        29        46   \n\n   pixel781  pixel782  pixel783  pixel784  \n0       106       112       120       107  \n1       184       184       182       180  \n2       226       225       224       222  \n3       230       240       253       255  \n4        49        46        46        53  \n\n[5 rows x 784 columns]",
      "text/html": "<div>\n<style scoped>\n    .dataframe tbody tr th:only-of-type {\n        vertical-align: middle;\n    }\n\n    .dataframe tbody tr th {\n        vertical-align: top;\n    }\n\n    .dataframe thead th {\n        text-align: right;\n    }\n</style>\n<table border=\"1\" class=\"dataframe\">\n  <thead>\n    <tr style=\"text-align: right;\">\n      <th></th>\n      <th>pixel1</th>\n      <th>pixel2</th>\n      <th>pixel3</th>\n      <th>pixel4</th>\n      <th>pixel5</th>\n      <th>pixel6</th>\n      <th>pixel7</th>\n      <th>pixel8</th>\n      <th>pixel9</th>\n      <th>pixel10</th>\n      <th>...</th>\n      <th>pixel775</th>\n      <th>pixel776</th>\n      <th>pixel777</th>\n      <th>pixel778</th>\n      <th>pixel779</th>\n      <th>pixel780</th>\n      <th>pixel781</th>\n      <th>pixel782</th>\n      <th>pixel783</th>\n      <th>pixel784</th>\n    </tr>\n  </thead>\n  <tbody>\n    <tr>\n      <th>0</th>\n      <td>149</td>\n      <td>149</td>\n      <td>150</td>\n      <td>150</td>\n      <td>150</td>\n      <td>151</td>\n      <td>151</td>\n      <td>150</td>\n      <td>151</td>\n      <td>152</td>\n      <td>...</td>\n      <td>138</td>\n      <td>148</td>\n      <td>127</td>\n      <td>89</td>\n      <td>82</td>\n      <td>96</td>\n      <td>106</td>\n      <td>112</td>\n      <td>120</td>\n      <td>107</td>\n    </tr>\n    <tr>\n      <th>1</th>\n      <td>126</td>\n      <td>128</td>\n      <td>131</td>\n      <td>132</td>\n      <td>133</td>\n      <td>134</td>\n      <td>135</td>\n      <td>135</td>\n      <td>136</td>\n      <td>138</td>\n      <td>...</td>\n      <td>47</td>\n      <td>104</td>\n      <td>194</td>\n      <td>183</td>\n      <td>186</td>\n      <td>184</td>\n      <td>184</td>\n      <td>184</td>\n      <td>182</td>\n      <td>180</td>\n    </tr>\n    <tr>\n      <th>2</th>\n      <td>85</td>\n      <td>88</td>\n      <td>92</td>\n      <td>96</td>\n      <td>105</td>\n      <td>123</td>\n      <td>135</td>\n      <td>143</td>\n      <td>147</td>\n      <td>152</td>\n      <td>...</td>\n      <td>68</td>\n      <td>166</td>\n      <td>242</td>\n      <td>227</td>\n      <td>230</td>\n      <td>227</td>\n      <td>226</td>\n      <td>225</td>\n      <td>224</td>\n      <td>222</td>\n    </tr>\n    <tr>\n      <th>3</th>\n      <td>203</td>\n      <td>205</td>\n      <td>207</td>\n      <td>206</td>\n      <td>207</td>\n      <td>209</td>\n      <td>210</td>\n      <td>209</td>\n      <td>210</td>\n      <td>209</td>\n      <td>...</td>\n      <td>154</td>\n      <td>248</td>\n      <td>247</td>\n      <td>248</td>\n      <td>253</td>\n      <td>236</td>\n      <td>230</td>\n      <td>240</td>\n      <td>253</td>\n      <td>255</td>\n    </tr>\n    <tr>\n      <th>4</th>\n      <td>188</td>\n      <td>191</td>\n      <td>193</td>\n      <td>195</td>\n      <td>199</td>\n      <td>201</td>\n      <td>202</td>\n      <td>203</td>\n      <td>203</td>\n      <td>203</td>\n      <td>...</td>\n      <td>26</td>\n      <td>40</td>\n      <td>64</td>\n      <td>48</td>\n      <td>29</td>\n      <td>46</td>\n      <td>49</td>\n      <td>46</td>\n      <td>46</td>\n      <td>53</td>\n    </tr>\n  </tbody>\n</table>\n<p>5 rows × 784 columns</p>\n</div>"
     },
     "execution_count": 9,
     "metadata": {},
     "output_type": "execute_result"
    }
   ]
  },
  {
   "cell_type": "code",
   "execution_count": 10,
   "outputs": [
    {
     "data": {
      "text/plain": "   pixel1  pixel2  pixel3  pixel4  pixel5  pixel6  pixel7  pixel8  pixel9  \\\n0     107     118     127     134     139     143     146     150     153   \n1     155     157     156     156     156     157     156     158     158   \n2     187     188     188     187     187     186     187     188     187   \n3     211     211     212     212     211     210     211     210     210   \n4     164     167     170     172     176     179     180     184     185   \n\n   pixel10  ...  pixel775  pixel776  pixel777  pixel778  pixel779  pixel780  \\\n0      156  ...       207       207       207       207       206       206   \n1      157  ...        69       149       128        87        94       163   \n2      186  ...       202       201       200       199       198       199   \n3      211  ...       235       234       233       231       230       226   \n4      186  ...        92       105       105       108       133       163   \n\n   pixel781  pixel782  pixel783  pixel784  \n0       206       204       203       202  \n1       175       103       135       149  \n2       198       195       194       195  \n3       225       222       229       163  \n4       157       163       164       179  \n\n[5 rows x 784 columns]",
      "text/html": "<div>\n<style scoped>\n    .dataframe tbody tr th:only-of-type {\n        vertical-align: middle;\n    }\n\n    .dataframe tbody tr th {\n        vertical-align: top;\n    }\n\n    .dataframe thead th {\n        text-align: right;\n    }\n</style>\n<table border=\"1\" class=\"dataframe\">\n  <thead>\n    <tr style=\"text-align: right;\">\n      <th></th>\n      <th>pixel1</th>\n      <th>pixel2</th>\n      <th>pixel3</th>\n      <th>pixel4</th>\n      <th>pixel5</th>\n      <th>pixel6</th>\n      <th>pixel7</th>\n      <th>pixel8</th>\n      <th>pixel9</th>\n      <th>pixel10</th>\n      <th>...</th>\n      <th>pixel775</th>\n      <th>pixel776</th>\n      <th>pixel777</th>\n      <th>pixel778</th>\n      <th>pixel779</th>\n      <th>pixel780</th>\n      <th>pixel781</th>\n      <th>pixel782</th>\n      <th>pixel783</th>\n      <th>pixel784</th>\n    </tr>\n  </thead>\n  <tbody>\n    <tr>\n      <th>0</th>\n      <td>107</td>\n      <td>118</td>\n      <td>127</td>\n      <td>134</td>\n      <td>139</td>\n      <td>143</td>\n      <td>146</td>\n      <td>150</td>\n      <td>153</td>\n      <td>156</td>\n      <td>...</td>\n      <td>207</td>\n      <td>207</td>\n      <td>207</td>\n      <td>207</td>\n      <td>206</td>\n      <td>206</td>\n      <td>206</td>\n      <td>204</td>\n      <td>203</td>\n      <td>202</td>\n    </tr>\n    <tr>\n      <th>1</th>\n      <td>155</td>\n      <td>157</td>\n      <td>156</td>\n      <td>156</td>\n      <td>156</td>\n      <td>157</td>\n      <td>156</td>\n      <td>158</td>\n      <td>158</td>\n      <td>157</td>\n      <td>...</td>\n      <td>69</td>\n      <td>149</td>\n      <td>128</td>\n      <td>87</td>\n      <td>94</td>\n      <td>163</td>\n      <td>175</td>\n      <td>103</td>\n      <td>135</td>\n      <td>149</td>\n    </tr>\n    <tr>\n      <th>2</th>\n      <td>187</td>\n      <td>188</td>\n      <td>188</td>\n      <td>187</td>\n      <td>187</td>\n      <td>186</td>\n      <td>187</td>\n      <td>188</td>\n      <td>187</td>\n      <td>186</td>\n      <td>...</td>\n      <td>202</td>\n      <td>201</td>\n      <td>200</td>\n      <td>199</td>\n      <td>198</td>\n      <td>199</td>\n      <td>198</td>\n      <td>195</td>\n      <td>194</td>\n      <td>195</td>\n    </tr>\n    <tr>\n      <th>3</th>\n      <td>211</td>\n      <td>211</td>\n      <td>212</td>\n      <td>212</td>\n      <td>211</td>\n      <td>210</td>\n      <td>211</td>\n      <td>210</td>\n      <td>210</td>\n      <td>211</td>\n      <td>...</td>\n      <td>235</td>\n      <td>234</td>\n      <td>233</td>\n      <td>231</td>\n      <td>230</td>\n      <td>226</td>\n      <td>225</td>\n      <td>222</td>\n      <td>229</td>\n      <td>163</td>\n    </tr>\n    <tr>\n      <th>4</th>\n      <td>164</td>\n      <td>167</td>\n      <td>170</td>\n      <td>172</td>\n      <td>176</td>\n      <td>179</td>\n      <td>180</td>\n      <td>184</td>\n      <td>185</td>\n      <td>186</td>\n      <td>...</td>\n      <td>92</td>\n      <td>105</td>\n      <td>105</td>\n      <td>108</td>\n      <td>133</td>\n      <td>163</td>\n      <td>157</td>\n      <td>163</td>\n      <td>164</td>\n      <td>179</td>\n    </tr>\n  </tbody>\n</table>\n<p>5 rows × 784 columns</p>\n</div>"
     },
     "execution_count": 10,
     "metadata": {},
     "output_type": "execute_result"
    }
   ],
   "source": [
    "train_df.head()"
   ],
   "metadata": {
    "collapsed": false,
    "pycharm": {
     "name": "#%%\n"
    }
   }
  },
  {
   "cell_type": "code",
   "execution_count": 11,
   "outputs": [
    {
     "data": {
      "text/plain": "0     6\n1     5\n2    10\n3     0\n4     3\nName: label, dtype: int64"
     },
     "execution_count": 11,
     "metadata": {},
     "output_type": "execute_result"
    }
   ],
   "source": [
    "y_test.head()"
   ],
   "metadata": {
    "collapsed": false,
    "pycharm": {
     "name": "#%%\n"
    }
   }
  },
  {
   "cell_type": "code",
   "execution_count": 12,
   "outputs": [
    {
     "data": {
      "text/plain": "0     3\n1     6\n2     2\n3     2\n4    13\nName: label, dtype: int64"
     },
     "execution_count": 12,
     "metadata": {},
     "output_type": "execute_result"
    }
   ],
   "source": [
    "y_train.head()"
   ],
   "metadata": {
    "collapsed": false,
    "pycharm": {
     "name": "#%%\n"
    }
   }
  },
  {
   "cell_type": "markdown",
   "source": [
    "Convert input 'label' data to LabelBinarizer"
   ],
   "metadata": {
    "collapsed": false,
    "pycharm": {
     "name": "#%% md\n"
    }
   }
  },
  {
   "cell_type": "code",
   "execution_count": 13,
   "outputs": [
    {
     "data": {
      "text/plain": "(27455, 24)"
     },
     "execution_count": 13,
     "metadata": {},
     "output_type": "execute_result"
    }
   ],
   "source": [
    "from sklearn.preprocessing import LabelBinarizer\n",
    "label_binarizer = LabelBinarizer()\n",
    "y_train = label_binarizer.fit_transform(y_train)\n",
    "y_test = label_binarizer.fit_transform(y_test)\n",
    "y_train.shape"
   ],
   "metadata": {
    "collapsed": false,
    "pycharm": {
     "name": "#%%\n"
    }
   }
  },
  {
   "cell_type": "code",
   "execution_count": 14,
   "outputs": [],
   "source": [
    "x_train = train_df.values\n",
    "x_test = test_df.values"
   ],
   "metadata": {
    "collapsed": false,
    "pycharm": {
     "name": "#%%\n"
    }
   }
  },
  {
   "cell_type": "code",
   "execution_count": 15,
   "outputs": [
    {
     "data": {
      "text/plain": "array([[107, 118, 127, ..., 204, 203, 202],\n       [155, 157, 156, ..., 103, 135, 149],\n       [187, 188, 188, ..., 195, 194, 195],\n       ...,\n       [174, 174, 174, ..., 202, 200, 200],\n       [177, 181, 184, ...,  64,  87,  93],\n       [179, 180, 180, ..., 205, 209, 215]], dtype=int64)"
     },
     "execution_count": 15,
     "metadata": {},
     "output_type": "execute_result"
    }
   ],
   "source": [
    "x_train"
   ],
   "metadata": {
    "collapsed": false,
    "pycharm": {
     "name": "#%%\n"
    }
   }
  },
  {
   "cell_type": "code",
   "execution_count": 16,
   "outputs": [
    {
     "data": {
      "text/plain": "array([[149, 149, 150, ..., 112, 120, 107],\n       [126, 128, 131, ..., 184, 182, 180],\n       [ 85,  88,  92, ..., 225, 224, 222],\n       ...,\n       [190, 191, 190, ..., 211, 209, 208],\n       [201, 205, 208, ...,  67,  70,  63],\n       [173, 174, 173, ..., 195, 193, 192]], dtype=int64)"
     },
     "execution_count": 16,
     "metadata": {},
     "output_type": "execute_result"
    }
   ],
   "source": [
    "x_test"
   ],
   "metadata": {
    "collapsed": false,
    "pycharm": {
     "name": "#%%\n"
    }
   }
  },
  {
   "cell_type": "markdown",
   "source": [
    "Normalize the data"
   ],
   "metadata": {
    "collapsed": false,
    "pycharm": {
     "name": "#%% md\n"
    }
   }
  },
  {
   "cell_type": "code",
   "execution_count": 17,
   "outputs": [],
   "source": [
    "x_train = x_train / 255\n",
    "x_test = x_test / 255"
   ],
   "metadata": {
    "collapsed": false,
    "pycharm": {
     "name": "#%%\n"
    }
   }
  },
  {
   "cell_type": "code",
   "execution_count": 18,
   "outputs": [
    {
     "data": {
      "text/plain": "array([[0.41960784, 0.4627451 , 0.49803922, ..., 0.8       , 0.79607843,\n        0.79215686],\n       [0.60784314, 0.61568627, 0.61176471, ..., 0.40392157, 0.52941176,\n        0.58431373],\n       [0.73333333, 0.7372549 , 0.7372549 , ..., 0.76470588, 0.76078431,\n        0.76470588],\n       ...,\n       [0.68235294, 0.68235294, 0.68235294, ..., 0.79215686, 0.78431373,\n        0.78431373],\n       [0.69411765, 0.70980392, 0.72156863, ..., 0.25098039, 0.34117647,\n        0.36470588],\n       [0.70196078, 0.70588235, 0.70588235, ..., 0.80392157, 0.81960784,\n        0.84313725]])"
     },
     "execution_count": 18,
     "metadata": {},
     "output_type": "execute_result"
    }
   ],
   "source": [
    "x_train"
   ],
   "metadata": {
    "collapsed": false,
    "pycharm": {
     "name": "#%%\n"
    }
   }
  },
  {
   "cell_type": "code",
   "execution_count": 19,
   "outputs": [
    {
     "data": {
      "text/plain": "array([[0.58431373, 0.58431373, 0.58823529, ..., 0.43921569, 0.47058824,\n        0.41960784],\n       [0.49411765, 0.50196078, 0.51372549, ..., 0.72156863, 0.71372549,\n        0.70588235],\n       [0.33333333, 0.34509804, 0.36078431, ..., 0.88235294, 0.87843137,\n        0.87058824],\n       ...,\n       [0.74509804, 0.74901961, 0.74509804, ..., 0.82745098, 0.81960784,\n        0.81568627],\n       [0.78823529, 0.80392157, 0.81568627, ..., 0.2627451 , 0.2745098 ,\n        0.24705882],\n       [0.67843137, 0.68235294, 0.67843137, ..., 0.76470588, 0.75686275,\n        0.75294118]])"
     },
     "execution_count": 19,
     "metadata": {},
     "output_type": "execute_result"
    }
   ],
   "source": [
    "x_test"
   ],
   "metadata": {
    "collapsed": false,
    "pycharm": {
     "name": "#%%\n"
    }
   }
  },
  {
   "cell_type": "markdown",
   "source": [
    "Reshaping the data from 1-D to 3-D as required through input by CNN's"
   ],
   "metadata": {
    "collapsed": false,
    "pycharm": {
     "name": "#%% md\n"
    }
   }
  },
  {
   "cell_type": "code",
   "execution_count": 20,
   "outputs": [],
   "source": [
    "x_train = x_train.reshape(-1,28,28,1)\n",
    "x_test = x_test.reshape(-1,28,28,1)"
   ],
   "metadata": {
    "collapsed": false,
    "pycharm": {
     "name": "#%%\n"
    }
   }
  },
  {
   "cell_type": "code",
   "execution_count": 21,
   "outputs": [
    {
     "data": {
      "text/plain": "array([[[[0.41960784],\n         [0.4627451 ],\n         [0.49803922],\n         ...,\n         [0.66666667],\n         [0.66666667],\n         [0.6627451 ]],\n\n        [[0.43529412],\n         [0.4745098 ],\n         [0.50588235],\n         ...,\n         [0.67058824],\n         [0.67058824],\n         [0.66666667]],\n\n        [[0.44313725],\n         [0.48235294],\n         [0.51372549],\n         ...,\n         [0.67058824],\n         [0.67058824],\n         [0.67058824]],\n\n        ...,\n\n        [[0.55686275],\n         [0.58823529],\n         [0.62352941],\n         ...,\n         [0.79215686],\n         [0.78823529],\n         [0.78431373]],\n\n        [[0.55686275],\n         [0.59215686],\n         [0.62745098],\n         ...,\n         [0.8       ],\n         [0.79607843],\n         [0.79215686]],\n\n        [[0.55686275],\n         [0.59215686],\n         [0.62745098],\n         ...,\n         [0.8       ],\n         [0.79607843],\n         [0.79215686]]],\n\n\n       [[[0.60784314],\n         [0.61568627],\n         [0.61176471],\n         ...,\n         [0.54117647],\n         [0.36078431],\n         [0.42352941]],\n\n        [[0.61960784],\n         [0.62352941],\n         [0.62352941],\n         ...,\n         [0.55686275],\n         [0.45490196],\n         [0.56078431]],\n\n        [[0.63137255],\n         [0.63137255],\n         [0.63137255],\n         ...,\n         [0.57647059],\n         [0.49019608],\n         [0.54901961]],\n\n        ...,\n\n        [[0.63529412],\n         [0.62352941],\n         [0.56862745],\n         ...,\n         [0.35686275],\n         [0.39607843],\n         [0.36862745]],\n\n        [[0.6       ],\n         [0.54509804],\n         [0.45098039],\n         ...,\n         [0.38039216],\n         [0.37254902],\n         [0.47058824]],\n\n        [[0.52941176],\n         [0.45490196],\n         [0.37254902],\n         ...,\n         [0.40392157],\n         [0.52941176],\n         [0.58431373]]],\n\n\n       [[[0.73333333],\n         [0.7372549 ],\n         [0.7372549 ],\n         ...,\n         [0.25882353],\n         [0.30196078],\n         [0.3254902 ]],\n\n        [[0.7372549 ],\n         [0.74117647],\n         [0.74117647],\n         ...,\n         [0.28627451],\n         [0.28627451],\n         [0.27843137]],\n\n        [[0.74509804],\n         [0.74509804],\n         [0.74509804],\n         ...,\n         [0.29019608],\n         [0.26666667],\n         [0.23921569]],\n\n        ...,\n\n        [[0.83137255],\n         [0.77647059],\n         [0.68627451],\n         ...,\n         [0.76470588],\n         [0.75686275],\n         [0.75294118]],\n\n        [[0.79215686],\n         [0.70196078],\n         [0.59607843],\n         ...,\n         [0.76470588],\n         [0.76078431],\n         [0.75686275]],\n\n        [[0.77647059],\n         [0.65098039],\n         [0.51764706],\n         ...,\n         [0.76470588],\n         [0.76078431],\n         [0.76470588]]],\n\n\n       ...,\n\n\n       [[[0.68235294],\n         [0.68235294],\n         [0.68235294],\n         ...,\n         [0.62745098],\n         [0.61960784],\n         [0.61176471]],\n\n        [[0.69803922],\n         [0.69803922],\n         [0.69411765],\n         ...,\n         [0.63529412],\n         [0.62745098],\n         [0.61960784]],\n\n        [[0.70980392],\n         [0.70588235],\n         [0.70588235],\n         ...,\n         [0.64313725],\n         [0.63529412],\n         [0.63137255]],\n\n        ...,\n\n        [[0.84313725],\n         [0.84705882],\n         [0.84705882],\n         ...,\n         [0.78823529],\n         [0.78039216],\n         [0.77647059]],\n\n        [[0.84705882],\n         [0.85098039],\n         [0.85098039],\n         ...,\n         [0.78823529],\n         [0.78431373],\n         [0.77647059]],\n\n        [[0.85098039],\n         [0.85098039],\n         [0.85098039],\n         ...,\n         [0.79215686],\n         [0.78431373],\n         [0.78431373]]],\n\n\n       [[[0.69411765],\n         [0.70980392],\n         [0.72156863],\n         ...,\n         [0.70980392],\n         [0.70196078],\n         [0.69411765]],\n\n        [[0.70196078],\n         [0.71372549],\n         [0.7254902 ],\n         ...,\n         [0.71764706],\n         [0.70980392],\n         [0.70196078]],\n\n        [[0.70980392],\n         [0.72156863],\n         [0.73333333],\n         ...,\n         [0.7254902 ],\n         [0.71764706],\n         [0.71372549]],\n\n        ...,\n\n        [[0.50588235],\n         [0.51764706],\n         [0.5254902 ],\n         ...,\n         [0.36862745],\n         [0.4       ],\n         [0.2745098 ]],\n\n        [[0.51372549],\n         [0.5254902 ],\n         [0.51764706],\n         ...,\n         [0.30588235],\n         [0.39215686],\n         [0.3372549 ]],\n\n        [[0.53333333],\n         [0.52941176],\n         [0.52941176],\n         ...,\n         [0.25098039],\n         [0.34117647],\n         [0.36470588]]],\n\n\n       [[[0.70196078],\n         [0.70588235],\n         [0.70588235],\n         ...,\n         [0.18431373],\n         [0.11764706],\n         [0.15294118]],\n\n        [[0.70588235],\n         [0.71372549],\n         [0.71764706],\n         ...,\n         [0.30980392],\n         [0.09411765],\n         [0.13333333]],\n\n        [[0.72156863],\n         [0.72156863],\n         [0.7254902 ],\n         ...,\n         [0.45098039],\n         [0.09803922],\n         [0.11372549]],\n\n        ...,\n\n        [[0.35294118],\n         [0.36862745],\n         [0.29803922],\n         ...,\n         [0.42745098],\n         [0.58823529],\n         [0.6745098 ]],\n\n        [[0.36862745],\n         [0.36470588],\n         [0.34901961],\n         ...,\n         [0.79215686],\n         [0.83529412],\n         [0.84313725]],\n\n        [[0.37647059],\n         [0.34509804],\n         [0.42745098],\n         ...,\n         [0.80392157],\n         [0.81960784],\n         [0.84313725]]]])"
     },
     "execution_count": 21,
     "metadata": {},
     "output_type": "execute_result"
    }
   ],
   "source": [
    "x_train"
   ],
   "metadata": {
    "collapsed": false,
    "pycharm": {
     "name": "#%%\n"
    }
   }
  },
  {
   "cell_type": "code",
   "execution_count": 22,
   "outputs": [
    {
     "data": {
      "text/plain": "array([[[[0.58431373],\n         [0.58431373],\n         [0.58823529],\n         ...,\n         [0.58823529],\n         [0.58823529],\n         [0.58431373]],\n\n        [[0.58823529],\n         [0.58823529],\n         [0.58823529],\n         ...,\n         [0.59215686],\n         [0.58823529],\n         [0.59215686]],\n\n        [[0.58823529],\n         [0.59215686],\n         [0.59215686],\n         ...,\n         [0.59215686],\n         [0.59215686],\n         [0.59607843]],\n\n        ...,\n\n        [[0.27058824],\n         [0.27058824],\n         [0.30196078],\n         ...,\n         [0.45490196],\n         [0.44313725],\n         [0.4627451 ]],\n\n        [[0.29019608],\n         [0.29411765],\n         [0.29803922],\n         ...,\n         [0.43137255],\n         [0.45490196],\n         [0.44313725]],\n\n        [[0.29411765],\n         [0.29019608],\n         [0.29019608],\n         ...,\n         [0.43921569],\n         [0.47058824],\n         [0.41960784]]],\n\n\n       [[[0.49411765],\n         [0.50196078],\n         [0.51372549],\n         ...,\n         [0.52156863],\n         [0.5254902 ],\n         [0.51764706]],\n\n        [[0.50588235],\n         [0.51764706],\n         [0.5254902 ],\n         ...,\n         [0.53333333],\n         [0.53333333],\n         [0.5254902 ]],\n\n        [[0.52156863],\n         [0.52941176],\n         [0.54117647],\n         ...,\n         [0.54901961],\n         [0.54509804],\n         [0.54117647]],\n\n        ...,\n\n        [[0.67843137],\n         [0.68235294],\n         [0.69411765],\n         ...,\n         [0.72156863],\n         [0.71372549],\n         [0.70980392]],\n\n        [[0.6745098 ],\n         [0.68235294],\n         [0.69411765],\n         ...,\n         [0.72156863],\n         [0.71372549],\n         [0.70980392]],\n\n        [[0.6745098 ],\n         [0.68235294],\n         [0.69411765],\n         ...,\n         [0.72156863],\n         [0.71372549],\n         [0.70588235]]],\n\n\n       [[[0.33333333],\n         [0.34509804],\n         [0.36078431],\n         ...,\n         [0.71372549],\n         [0.70980392],\n         [0.69803922]],\n\n        [[0.3372549 ],\n         [0.34509804],\n         [0.36470588],\n         ...,\n         [0.71764706],\n         [0.70980392],\n         [0.70196078]],\n\n        [[0.3372549 ],\n         [0.34901961],\n         [0.36470588],\n         ...,\n         [0.7254902 ],\n         [0.71764706],\n         [0.70980392]],\n\n        ...,\n\n        [[0.35686275],\n         [0.36862745],\n         [0.38039216],\n         ...,\n         [0.87843137],\n         [0.87058824],\n         [0.86666667]],\n\n        [[0.35294118],\n         [0.36078431],\n         [0.37647059],\n         ...,\n         [0.88235294],\n         [0.87843137],\n         [0.87058824]],\n\n        [[0.34901961],\n         [0.35686275],\n         [0.36862745],\n         ...,\n         [0.88235294],\n         [0.87843137],\n         [0.87058824]]],\n\n\n       ...,\n\n\n       [[[0.74509804],\n         [0.74901961],\n         [0.74509804],\n         ...,\n         [0.7254902 ],\n         [0.72156863],\n         [0.71764706]],\n\n        [[0.75686275],\n         [0.75686275],\n         [0.75686275],\n         ...,\n         [0.72941176],\n         [0.7254902 ],\n         [0.72156863]],\n\n        [[0.76470588],\n         [0.76078431],\n         [0.76470588],\n         ...,\n         [0.73333333],\n         [0.72941176],\n         [0.73333333]],\n\n        ...,\n\n        [[0.83921569],\n         [0.84313725],\n         [0.83529412],\n         ...,\n         [0.81568627],\n         [0.81568627],\n         [0.81568627]],\n\n        [[0.83921569],\n         [0.84313725],\n         [0.81960784],\n         ...,\n         [0.81960784],\n         [0.81568627],\n         [0.81176471]],\n\n        [[0.84313725],\n         [0.84313725],\n         [0.81176471],\n         ...,\n         [0.82745098],\n         [0.81960784],\n         [0.81568627]]],\n\n\n       [[[0.78823529],\n         [0.80392157],\n         [0.81568627],\n         ...,\n         [0.9372549 ],\n         [0.9372549 ],\n         [0.9372549 ]],\n\n        [[0.80784314],\n         [0.81960784],\n         [0.83137255],\n         ...,\n         [0.94901961],\n         [0.94901961],\n         [0.94901961]],\n\n        [[0.82352941],\n         [0.83921569],\n         [0.84705882],\n         ...,\n         [0.96470588],\n         [0.96078431],\n         [0.95686275]],\n\n        ...,\n\n        [[1.        ],\n         [1.        ],\n         [1.        ],\n         ...,\n         [1.        ],\n         [0.78431373],\n         [0.55686275]],\n\n        [[1.        ],\n         [1.        ],\n         [1.        ],\n         ...,\n         [0.38823529],\n         [0.31372549],\n         [0.30196078]],\n\n        [[1.        ],\n         [1.        ],\n         [1.        ],\n         ...,\n         [0.2627451 ],\n         [0.2745098 ],\n         [0.24705882]]],\n\n\n       [[[0.67843137],\n         [0.68235294],\n         [0.67843137],\n         ...,\n         [0.65882353],\n         [0.65490196],\n         [0.65098039]],\n\n        [[0.69019608],\n         [0.69019608],\n         [0.69019608],\n         ...,\n         [0.65882353],\n         [0.65882353],\n         [0.65490196]],\n\n        [[0.69803922],\n         [0.69411765],\n         [0.69803922],\n         ...,\n         [0.6627451 ],\n         [0.65882353],\n         [0.6627451 ]],\n\n        ...,\n\n        [[0.77647059],\n         [0.78039216],\n         [0.78039216],\n         ...,\n         [0.75294118],\n         [0.75294118],\n         [0.75294118]],\n\n        [[0.77647059],\n         [0.78431373],\n         [0.75686275],\n         ...,\n         [0.75686275],\n         [0.75294118],\n         [0.74901961]],\n\n        [[0.78039216],\n         [0.78823529],\n         [0.74509804],\n         ...,\n         [0.76470588],\n         [0.75686275],\n         [0.75294118]]]])"
     },
     "execution_count": 22,
     "metadata": {},
     "output_type": "execute_result"
    }
   ],
   "source": [
    "x_test\n"
   ],
   "metadata": {
    "collapsed": false,
    "pycharm": {
     "name": "#%%\n"
    }
   }
  },
  {
   "cell_type": "markdown",
   "source": [
    "## Preview of first 10 images"
   ],
   "metadata": {
    "collapsed": false,
    "pycharm": {
     "name": "#%% md\n"
    }
   }
  },
  {
   "cell_type": "code",
   "execution_count": 23,
   "outputs": [
    {
     "data": {
      "text/plain": "<Figure size 720x720 with 10 Axes>",
      "image/png": "[encoded data removed]"
     },
     "metadata": {
      "needs_background": "light"
     },
     "output_type": "display_data"
    }
   ],
   "source": [
    "f, ax = plt.subplots(2,5)\n",
    "f.set_size_inches(10, 10)\n",
    "k = 0\n",
    "for i in range(2):\n",
    "    for j in range(5):\n",
    "        ax[i,j].imshow(x_train[k].reshape(28, 28) , cmap = \"gray\")\n",
    "        k += 1\n",
    "    plt.tight_layout()"
   ],
   "metadata": {
    "collapsed": false,
    "pycharm": {
     "name": "#%%\n"
    }
   }
  },
  {
   "cell_type": "markdown",
   "source": [
    "## Data Augmentation\n",
    "To prevent overfitting"
   ],
   "metadata": {
    "collapsed": false,
    "pycharm": {
     "name": "#%% md\n"
    }
   }
  },
  {
   "cell_type": "markdown",
   "source": [
    "For the data augmentation, i choosed to :\n",
    "\n",
    "Randomly rotate some training images by 10 degrees Randomly Zoom by 10% some training images Randomly shift images horizontally by 10% of the width Randomly shift images vertically by 10% of the height I did not apply a vertical_flip nor horizontal_flip since it could have lead to misclassify.\n",
    "\n",
    "Once our model is ready, we fit the training dataset."
   ],
   "metadata": {
    "collapsed": false,
    "pycharm": {
     "name": "#%% md\n"
    }
   }
  },
  {
   "cell_type": "code",
   "execution_count": 24,
   "outputs": [],
   "source": [
    "datagen = ImageDataGenerator(\n",
    "        featurewise_center=False,  # set input mean to 0 over the dataset\n",
    "        samplewise_center=False,  # set each sample mean to 0\n",
    "        featurewise_std_normalization=False,  # divide inputs by std of the dataset\n",
    "        samplewise_std_normalization=False,  # divide each input by its std\n",
    "        zca_whitening=False,  # apply ZCA whitening\n",
    "        rotation_range=10,  # randomly rotate images in the range (degrees, 0 to 180)\n",
    "        zoom_range = 0.1, # Randomly zoom image\n",
    "        width_shift_range=0.1,  # randomly shift images horizontally (fraction of total width)\n",
    "        height_shift_range=0.1,  # randomly shift images vertically (fraction of total height)\n",
    "        horizontal_flip=False,  # randomly flip images\n",
    "        vertical_flip=False)  # randomly flip images\n",
    "\n",
    "\n",
    "datagen.fit(x_train)"
   ],
   "metadata": {
    "collapsed": false,
    "pycharm": {
     "name": "#%%\n"
    }
   }
  },
  {
   "cell_type": "code",
   "execution_count": 25,
   "outputs": [
    {
     "name": "stdout",
     "output_type": "stream",
     "text": [
      "_________________________________________________________________\n",
      "Layer (type)                 Output Shape              Param #   \n",
      "=================================================================\n",
      "conv2d_1 (Conv2D)            (None, 28, 28, 75)        750       \n",
      "_________________________________________________________________\n",
      "max_pooling2d_1 (MaxPooling2 (None, 14, 14, 75)        0         \n",
      "_________________________________________________________________\n",
      "conv2d_2 (Conv2D)            (None, 14, 14, 50)        33800     \n",
      "_________________________________________________________________\n",
      "max_pooling2d_2 (MaxPooling2 (None, 7, 7, 50)          0         \n",
      "_________________________________________________________________\n",
      "conv2d_3 (Conv2D)            (None, 7, 7, 25)          11275     \n",
      "_________________________________________________________________\n",
      "max_pooling2d_3 (MaxPooling2 (None, 4, 4, 25)          0         \n",
      "_________________________________________________________________\n",
      "flatten_1 (Flatten)          (None, 400)               0         \n",
      "_________________________________________________________________\n",
      "dense_1 (Dense)              (None, 512)               205312    \n",
      "_________________________________________________________________\n",
      "dropout_1 (Dropout)          (None, 512)               0         \n",
      "_________________________________________________________________\n",
      "dense_2 (Dense)              (None, 24)                12312     \n",
      "=================================================================\n",
      "Total params: 263,449\n",
      "Trainable params: 263,449\n",
      "Non-trainable params: 0\n",
      "_________________________________________________________________\n"
     ]
    }
   ],
   "source": [
    "model = Sequential()\n",
    "model.add(Conv2D(75 , (3,3) , strides = 1 , padding = 'same' , activation = 'relu' , input_shape = (28,28,1)))\n",
    "model.add(MaxPool2D((2,2) , strides = 2 , padding = 'same'))\n",
    "model.add(Conv2D(50 , (3,3) , strides = 1 , padding = 'same' , activation = 'relu'))\n",
    "model.add(MaxPool2D((2,2) , strides = 2 , padding = 'same'))\n",
    "model.add(Conv2D(25 , (3,3) , strides = 1 , padding = 'same' , activation = 'relu'))\n",
    "model.add(MaxPool2D((2,2) , strides = 2 , padding = 'same'))\n",
    "model.add(Flatten())\n",
    "model.add(Dense(units = 512 , activation = 'relu'))\n",
    "model.add(Dropout(0.2))\n",
    "model.add(Dense(units = 24 , activation = 'softmax'))\n",
    "model.compile(optimizer = 'adam' , loss = 'categorical_crossentropy' , metrics = ['accuracy'])\n",
    "model.summary()"
   ],
   "metadata": {
    "collapsed": false,
    "pycharm": {
     "name": "#%%\n"
    }
   }
  },
  {
   "cell_type": "code",
   "execution_count": 26,
   "outputs": [
    {
     "ename": "AttributeError",
     "evalue": "'NumpyArrayIterator' object has no attribute 'ndim'",
     "output_type": "error",
     "traceback": [
      "\u001B[1;31m---------------------------------------------------------------------------\u001B[0m",
      "\u001B[1;31mAttributeError\u001B[0m                            Traceback (most recent call last)",
      "\u001B[1;32m<ipython-input-26-c47227a626d6>\u001B[0m in \u001B[0;36m<module>\u001B[1;34m\u001B[0m\n\u001B[1;32m----> 1\u001B[1;33m \u001B[0mhistory\u001B[0m \u001B[1;33m=\u001B[0m \u001B[0mmodel\u001B[0m\u001B[1;33m.\u001B[0m\u001B[0mfit\u001B[0m\u001B[1;33m(\u001B[0m\u001B[0mdatagen\u001B[0m\u001B[1;33m.\u001B[0m\u001B[0mflow\u001B[0m\u001B[1;33m(\u001B[0m\u001B[0mx_train\u001B[0m\u001B[1;33m,\u001B[0m\u001B[0my_train\u001B[0m\u001B[1;33m,\u001B[0m \u001B[0mbatch_size\u001B[0m \u001B[1;33m=\u001B[0m \u001B[1;36m128\u001B[0m\u001B[1;33m)\u001B[0m \u001B[1;33m,\u001B[0m\u001B[0mepochs\u001B[0m \u001B[1;33m=\u001B[0m \u001B[1;36m20\u001B[0m \u001B[1;33m,\u001B[0m \u001B[0mvalidation_data\u001B[0m \u001B[1;33m=\u001B[0m \u001B[1;33m(\u001B[0m\u001B[0mx_test\u001B[0m\u001B[1;33m,\u001B[0m \u001B[0my_test\u001B[0m\u001B[1;33m)\u001B[0m\u001B[1;33m)\u001B[0m\u001B[1;33m\u001B[0m\u001B[1;33m\u001B[0m\u001B[0m\n\u001B[0m\u001B[0;32m      2\u001B[0m \u001B[1;33m\u001B[0m\u001B[0m\n",
      "\u001B[1;32md:\\program files\\virtualenv\\sign language\\lib\\site-packages\\keras\\engine\\training.py\u001B[0m in \u001B[0;36mfit\u001B[1;34m(self, x, y, batch_size, epochs, verbose, callbacks, validation_split, validation_data, shuffle, class_weight, sample_weight, initial_epoch, steps_per_epoch, validation_steps, **kwargs)\u001B[0m\n\u001B[0;32m    950\u001B[0m             \u001B[0msample_weight\u001B[0m\u001B[1;33m=\u001B[0m\u001B[0msample_weight\u001B[0m\u001B[1;33m,\u001B[0m\u001B[1;33m\u001B[0m\u001B[1;33m\u001B[0m\u001B[0m\n\u001B[0;32m    951\u001B[0m             \u001B[0mclass_weight\u001B[0m\u001B[1;33m=\u001B[0m\u001B[0mclass_weight\u001B[0m\u001B[1;33m,\u001B[0m\u001B[1;33m\u001B[0m\u001B[1;33m\u001B[0m\u001B[0m\n\u001B[1;32m--> 952\u001B[1;33m             batch_size=batch_size)\n\u001B[0m\u001B[0;32m    953\u001B[0m         \u001B[1;31m# Prepare validation data.\u001B[0m\u001B[1;33m\u001B[0m\u001B[1;33m\u001B[0m\u001B[1;33m\u001B[0m\u001B[0m\n\u001B[0;32m    954\u001B[0m         \u001B[0mdo_validation\u001B[0m \u001B[1;33m=\u001B[0m \u001B[1;32mFalse\u001B[0m\u001B[1;33m\u001B[0m\u001B[1;33m\u001B[0m\u001B[0m\n",
      "\u001B[1;32md:\\program files\\virtualenv\\sign language\\lib\\site-packages\\keras\\engine\\training.py\u001B[0m in \u001B[0;36m_standardize_user_data\u001B[1;34m(self, x, y, sample_weight, class_weight, check_array_lengths, batch_size)\u001B[0m\n\u001B[0;32m    749\u001B[0m             \u001B[0mfeed_input_shapes\u001B[0m\u001B[1;33m,\u001B[0m\u001B[1;33m\u001B[0m\u001B[1;33m\u001B[0m\u001B[0m\n\u001B[0;32m    750\u001B[0m             \u001B[0mcheck_batch_axis\u001B[0m\u001B[1;33m=\u001B[0m\u001B[1;32mFalse\u001B[0m\u001B[1;33m,\u001B[0m  \u001B[1;31m# Don't enforce the batch size.\u001B[0m\u001B[1;33m\u001B[0m\u001B[1;33m\u001B[0m\u001B[0m\n\u001B[1;32m--> 751\u001B[1;33m             exception_prefix='input')\n\u001B[0m\u001B[0;32m    752\u001B[0m \u001B[1;33m\u001B[0m\u001B[0m\n\u001B[0;32m    753\u001B[0m         \u001B[1;32mif\u001B[0m \u001B[0my\u001B[0m \u001B[1;32mis\u001B[0m \u001B[1;32mnot\u001B[0m \u001B[1;32mNone\u001B[0m\u001B[1;33m:\u001B[0m\u001B[1;33m\u001B[0m\u001B[1;33m\u001B[0m\u001B[0m\n",
      "\u001B[1;32md:\\program files\\virtualenv\\sign language\\lib\\site-packages\\keras\\engine\\training_utils.py\u001B[0m in \u001B[0;36mstandardize_input_data\u001B[1;34m(data, names, shapes, check_batch_axis, exception_prefix)\u001B[0m\n\u001B[0;32m     90\u001B[0m         \u001B[0mdata\u001B[0m \u001B[1;33m=\u001B[0m \u001B[0mdata\u001B[0m\u001B[1;33m.\u001B[0m\u001B[0mvalues\u001B[0m \u001B[1;32mif\u001B[0m \u001B[0mdata\u001B[0m\u001B[1;33m.\u001B[0m\u001B[0m__class__\u001B[0m\u001B[1;33m.\u001B[0m\u001B[0m__name__\u001B[0m \u001B[1;33m==\u001B[0m \u001B[1;34m'DataFrame'\u001B[0m \u001B[1;32melse\u001B[0m \u001B[0mdata\u001B[0m\u001B[1;33m\u001B[0m\u001B[1;33m\u001B[0m\u001B[0m\n\u001B[0;32m     91\u001B[0m         \u001B[0mdata\u001B[0m \u001B[1;33m=\u001B[0m \u001B[1;33m[\u001B[0m\u001B[0mdata\u001B[0m\u001B[1;33m]\u001B[0m\u001B[1;33m\u001B[0m\u001B[1;33m\u001B[0m\u001B[0m\n\u001B[1;32m---> 92\u001B[1;33m     \u001B[0mdata\u001B[0m \u001B[1;33m=\u001B[0m \u001B[1;33m[\u001B[0m\u001B[0mstandardize_single_array\u001B[0m\u001B[1;33m(\u001B[0m\u001B[0mx\u001B[0m\u001B[1;33m)\u001B[0m \u001B[1;32mfor\u001B[0m \u001B[0mx\u001B[0m \u001B[1;32min\u001B[0m \u001B[0mdata\u001B[0m\u001B[1;33m]\u001B[0m\u001B[1;33m\u001B[0m\u001B[1;33m\u001B[0m\u001B[0m\n\u001B[0m\u001B[0;32m     93\u001B[0m \u001B[1;33m\u001B[0m\u001B[0m\n\u001B[0;32m     94\u001B[0m     \u001B[1;32mif\u001B[0m \u001B[0mlen\u001B[0m\u001B[1;33m(\u001B[0m\u001B[0mdata\u001B[0m\u001B[1;33m)\u001B[0m \u001B[1;33m!=\u001B[0m \u001B[0mlen\u001B[0m\u001B[1;33m(\u001B[0m\u001B[0mnames\u001B[0m\u001B[1;33m)\u001B[0m\u001B[1;33m:\u001B[0m\u001B[1;33m\u001B[0m\u001B[1;33m\u001B[0m\u001B[0m\n",
      "\u001B[1;32md:\\program files\\virtualenv\\sign language\\lib\\site-packages\\keras\\engine\\training_utils.py\u001B[0m in \u001B[0;36m<listcomp>\u001B[1;34m(.0)\u001B[0m\n\u001B[0;32m     90\u001B[0m         \u001B[0mdata\u001B[0m \u001B[1;33m=\u001B[0m \u001B[0mdata\u001B[0m\u001B[1;33m.\u001B[0m\u001B[0mvalues\u001B[0m \u001B[1;32mif\u001B[0m \u001B[0mdata\u001B[0m\u001B[1;33m.\u001B[0m\u001B[0m__class__\u001B[0m\u001B[1;33m.\u001B[0m\u001B[0m__name__\u001B[0m \u001B[1;33m==\u001B[0m \u001B[1;34m'DataFrame'\u001B[0m \u001B[1;32melse\u001B[0m \u001B[0mdata\u001B[0m\u001B[1;33m\u001B[0m\u001B[1;33m\u001B[0m\u001B[0m\n\u001B[0;32m     91\u001B[0m         \u001B[0mdata\u001B[0m \u001B[1;33m=\u001B[0m \u001B[1;33m[\u001B[0m\u001B[0mdata\u001B[0m\u001B[1;33m]\u001B[0m\u001B[1;33m\u001B[0m\u001B[1;33m\u001B[0m\u001B[0m\n\u001B[1;32m---> 92\u001B[1;33m     \u001B[0mdata\u001B[0m \u001B[1;33m=\u001B[0m \u001B[1;33m[\u001B[0m\u001B[0mstandardize_single_array\u001B[0m\u001B[1;33m(\u001B[0m\u001B[0mx\u001B[0m\u001B[1;33m)\u001B[0m \u001B[1;32mfor\u001B[0m \u001B[0mx\u001B[0m \u001B[1;32min\u001B[0m \u001B[0mdata\u001B[0m\u001B[1;33m]\u001B[0m\u001B[1;33m\u001B[0m\u001B[1;33m\u001B[0m\u001B[0m\n\u001B[0m\u001B[0;32m     93\u001B[0m \u001B[1;33m\u001B[0m\u001B[0m\n\u001B[0;32m     94\u001B[0m     \u001B[1;32mif\u001B[0m \u001B[0mlen\u001B[0m\u001B[1;33m(\u001B[0m\u001B[0mdata\u001B[0m\u001B[1;33m)\u001B[0m \u001B[1;33m!=\u001B[0m \u001B[0mlen\u001B[0m\u001B[1;33m(\u001B[0m\u001B[0mnames\u001B[0m\u001B[1;33m)\u001B[0m\u001B[1;33m:\u001B[0m\u001B[1;33m\u001B[0m\u001B[1;33m\u001B[0m\u001B[0m\n",
      "\u001B[1;32md:\\program files\\virtualenv\\sign language\\lib\\site-packages\\keras\\engine\\training_utils.py\u001B[0m in \u001B[0;36mstandardize_single_array\u001B[1;34m(x)\u001B[0m\n\u001B[0;32m     25\u001B[0m                 'Got tensor with shape: %s' % str(shape))\n\u001B[0;32m     26\u001B[0m         \u001B[1;32mreturn\u001B[0m \u001B[0mx\u001B[0m\u001B[1;33m\u001B[0m\u001B[1;33m\u001B[0m\u001B[0m\n\u001B[1;32m---> 27\u001B[1;33m     \u001B[1;32melif\u001B[0m \u001B[0mx\u001B[0m\u001B[1;33m.\u001B[0m\u001B[0mndim\u001B[0m \u001B[1;33m==\u001B[0m \u001B[1;36m1\u001B[0m\u001B[1;33m:\u001B[0m\u001B[1;33m\u001B[0m\u001B[1;33m\u001B[0m\u001B[0m\n\u001B[0m\u001B[0;32m     28\u001B[0m         \u001B[0mx\u001B[0m \u001B[1;33m=\u001B[0m \u001B[0mnp\u001B[0m\u001B[1;33m.\u001B[0m\u001B[0mexpand_dims\u001B[0m\u001B[1;33m(\u001B[0m\u001B[0mx\u001B[0m\u001B[1;33m,\u001B[0m \u001B[1;36m1\u001B[0m\u001B[1;33m)\u001B[0m\u001B[1;33m\u001B[0m\u001B[1;33m\u001B[0m\u001B[0m\n\u001B[0;32m     29\u001B[0m     \u001B[1;32mreturn\u001B[0m \u001B[0mx\u001B[0m\u001B[1;33m\u001B[0m\u001B[1;33m\u001B[0m\u001B[0m\n",
      "\u001B[1;31mAttributeError\u001B[0m: 'NumpyArrayIterator' object has no attribute 'ndim'"
     ]
    }
   ],
   "source": [
    "history = model.fit(datagen.flow(x_train,y_train, batch_size = 128) ,epochs = 20 , validation_data = (x_test, y_test))"
   ],
   "metadata": {
    "collapsed": false,
    "pycharm": {
     "name": "#%%\n"
    }
   }
  },
  {
   "cell_type": "code",
   "execution_count": null,
   "outputs": [],
   "source": [
    "print(\"Accuracy of the model is - \" , model.evaluate(x_test,y_test)[1]*100 , \"%\")"
   ],
   "metadata": {
    "collapsed": false,
    "pycharm": {
     "name": "#%%\n"
    }
   }
  },
  {
   "cell_type": "markdown",
   "source": [
    "## Save Model"
   ],
   "metadata": {
    "collapsed": false
   }
  },
  {
   "cell_type": "code",
   "execution_count": null,
   "outputs": [],
   "source": [
    "model.save('Model/base_model')\n",
    "print('done saving')"
   ],
   "metadata": {
    "collapsed": false,
    "pycharm": {
     "name": "#%%\n"
    }
   }
  }
 ],
 "metadata": {
  "kernelspec": {
   "display_name": "Python 3",
   "language": "python",
   "name": "python3"
  },
  "language_info": {
   "codemirror_mode": {
    "name": "ipython",
    "version": 3
   },
   "file_extension": ".py",
   "mimetype": "text/x-python",
   "name": "python",
   "nbconvert_exporter": "python",
   "pygments_lexer": "ipython3",
   "version": "3.8.3"
  }
 },
 "nbformat": 4,
 "nbformat_minor": 1
}